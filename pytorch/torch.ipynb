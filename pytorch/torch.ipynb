{
 "cells": [
  {
   "cell_type": "code",
   "execution_count": 1,
   "metadata": {
    "collapsed": true
   },
   "outputs": [],
   "source": [
    "import torch\n",
    "import numpy as np\n",
    "import torchvision.datasets as dsets\n",
    "import torchvision.transforms as transforms\n",
    "import torch.nn as nn\n",
    "from torch.autograd import Variable"
   ]
  },
  {
   "cell_type": "code",
   "execution_count": null,
   "metadata": {
    "collapsed": true
   },
   "outputs": [],
   "source": []
  },
  {
   "cell_type": "code",
   "execution_count": 16,
   "metadata": {},
   "outputs": [
    {
     "data": {
      "text/plain": [
       "\n",
       "(0 ,.,.) = \n",
       "  2.5016  1.2135  1.1183\n",
       "  0.2357  1.1116  1.7245\n",
       "\n",
       "(1 ,.,.) = \n",
       " -0.1776  0.3805  2.1849\n",
       "  1.8267  1.5925  1.7707\n",
       "[torch.FloatTensor of size 2x2x3]"
      ]
     },
     "execution_count": 16,
     "metadata": {},
     "output_type": "execute_result"
    }
   ],
   "source": [
    "1 + torch.randn(*x.size())"
   ]
  },
  {
   "cell_type": "code",
   "execution_count": 17,
   "metadata": {},
   "outputs": [
    {
     "data": {
      "text/plain": [
       "\n",
       " 1  2\n",
       " 3  4\n",
       "[torch.FloatTensor of size 2x2]"
      ]
     },
     "execution_count": 17,
     "metadata": {},
     "output_type": "execute_result"
    }
   ],
   "source": [
    "x = torch.Tensor([[1, 2], [3, 4]])\n",
    "x"
   ]
  },
  {
   "cell_type": "code",
   "execution_count": 19,
   "metadata": {},
   "outputs": [
    {
     "data": {
      "text/plain": [
       "\n",
       " 1  4\n",
       " 3  8\n",
       "[torch.FloatTensor of size 2x2]"
      ]
     },
     "execution_count": 19,
     "metadata": {},
     "output_type": "execute_result"
    }
   ],
   "source": [
    "a = torch.Tensor([1, 2])\n",
    "x * a"
   ]
  },
  {
   "cell_type": "code",
   "execution_count": 11,
   "metadata": {},
   "outputs": [
    {
     "data": {
      "text/plain": [
       "torch.Size([2, 2, 3])"
      ]
     },
     "execution_count": 11,
     "metadata": {},
     "output_type": "execute_result"
    }
   ],
   "source": [
    "x = torch.Tensor([[[1, 2, 3], [4, 5, 6]], [[1, 2, 3], [4, 5, 6]]])\n",
    "x.size()"
   ]
  },
  {
   "cell_type": "code",
   "execution_count": 17,
   "metadata": {},
   "outputs": [
    {
     "data": {
      "text/plain": [
       "6"
      ]
     },
     "execution_count": 17,
     "metadata": {},
     "output_type": "execute_result"
    }
   ],
   "source": [
    "np.prod(x.size()[1:])"
   ]
  },
  {
   "cell_type": "code",
   "execution_count": 4,
   "metadata": {
    "collapsed": true
   },
   "outputs": [],
   "source": [
    "tr = transforms.Compose([\n",
    "    transforms.ToTensor(),\n",
    "    transforms.Lambda(lambda x: x.view(-1))\n",
    "])"
   ]
  },
  {
   "cell_type": "code",
   "execution_count": null,
   "metadata": {
    "collapsed": true
   },
   "outputs": [],
   "source": []
  },
  {
   "cell_type": "code",
   "execution_count": 14,
   "metadata": {
    "collapsed": true
   },
   "outputs": [],
   "source": [
    "batch_size = 1\n",
    "\n",
    "train_dataset = dsets.MNIST(root='../data',\n",
    "                            train=True,\n",
    "                            transform=tr,\n",
    "                            download=True)\n",
    "\n",
    "test_dataset = dsets.MNIST(root='../data',\n",
    "                           train=False,\n",
    "                           transform=transforms.ToTensor())"
   ]
  },
  {
   "cell_type": "code",
   "execution_count": 17,
   "metadata": {},
   "outputs": [
    {
     "data": {
      "text/plain": [
       "torch.LongTensor"
      ]
     },
     "execution_count": 17,
     "metadata": {},
     "output_type": "execute_result"
    }
   ],
   "source": [
    "type(train_dataset.train_labels)"
   ]
  },
  {
   "cell_type": "code",
   "execution_count": null,
   "metadata": {
    "collapsed": true
   },
   "outputs": [],
   "source": []
  },
  {
   "cell_type": "code",
   "execution_count": null,
   "metadata": {
    "collapsed": true
   },
   "outputs": [],
   "source": [
    "t.__dict__"
   ]
  },
  {
   "cell_type": "code",
   "execution_count": 12,
   "metadata": {},
   "outputs": [
    {
     "ename": "AttributeError",
     "evalue": "'torch.ByteTensor' object has no attribute 'mean'",
     "output_type": "error",
     "traceback": [
      "\u001b[0;31m---------------------------------------------------------------------------\u001b[0m",
      "\u001b[0;31mAttributeError\u001b[0m                            Traceback (most recent call last)",
      "\u001b[0;32m<ipython-input-12-7c28297c0978>\u001b[0m in \u001b[0;36m<module>\u001b[0;34m()\u001b[0m\n\u001b[1;32m      5\u001b[0m \u001b[0;31m# test_dataset.test_data = test_dataset.test_data.float() / 256.\u001b[0m\u001b[0;34m\u001b[0m\u001b[0;34m\u001b[0m\u001b[0m\n\u001b[1;32m      6\u001b[0m \u001b[0;34m\u001b[0m\u001b[0m\n\u001b[0;32m----> 7\u001b[0;31m \u001b[0mmean_img\u001b[0m \u001b[0;34m=\u001b[0m \u001b[0mtrain_dataset\u001b[0m\u001b[0;34m.\u001b[0m\u001b[0mtrain_data\u001b[0m\u001b[0;34m.\u001b[0m\u001b[0mmean\u001b[0m\u001b[0;34m(\u001b[0m\u001b[0mdim\u001b[0m\u001b[0;34m=\u001b[0m\u001b[0;36m0\u001b[0m\u001b[0;34m)\u001b[0m\u001b[0;34m\u001b[0m\u001b[0m\n\u001b[0m\u001b[1;32m      8\u001b[0m \u001b[0;31m# train_dataset.train_data -= mean_img\u001b[0m\u001b[0;34m\u001b[0m\u001b[0;34m\u001b[0m\u001b[0m\n\u001b[1;32m      9\u001b[0m \u001b[0;31m# test_dataset.test_data -= mean_img\u001b[0m\u001b[0;34m\u001b[0m\u001b[0;34m\u001b[0m\u001b[0m\n",
      "\u001b[0;31mAttributeError\u001b[0m: 'torch.ByteTensor' object has no attribute 'mean'"
     ]
    }
   ],
   "source": [
    "# Data Loader (Input Pipeline)\n",
    "x_train_shape = train_dataset.train_data.shape\n",
    "x_test_shape = test_dataset.test_data.shape\n",
    "# train_dataset.train_data = train_dataset.train_data / 256.\n",
    "# test_dataset.test_data = test_dataset.test_data.float() / 256.\n",
    "\n",
    "mean_img = train_dataset.train_data.mean(dim=0)\n",
    "# train_dataset.train_data -= mean_img\n",
    "# test_dataset.test_data -= mean_img\n",
    "\n",
    "# random sampler\n",
    "train_loader = torch.utils.data.DataLoader(dataset=train_dataset,\n",
    "                                           batch_size=batch_size,\n",
    "                                           shuffle=True)\n",
    "\n",
    "test_loader = torch.utils.data.DataLoader(dataset=test_dataset,\n",
    "                                          batch_size=batch_size,\n",
    "                                          shuffle=False)"
   ]
  },
  {
   "cell_type": "code",
   "execution_count": 9,
   "metadata": {
    "collapsed": true
   },
   "outputs": [],
   "source": [
    "for x, y in train_loader:\n",
    "    break"
   ]
  },
  {
   "cell_type": "code",
   "execution_count": 11,
   "metadata": {},
   "outputs": [
    {
     "data": {
      "text/plain": [
       "torch.Size([1, 784])"
      ]
     },
     "execution_count": 11,
     "metadata": {},
     "output_type": "execute_result"
    }
   ],
   "source": [
    "x.size()"
   ]
  },
  {
   "cell_type": "code",
   "execution_count": 4,
   "metadata": {
    "collapsed": true
   },
   "outputs": [],
   "source": [
    "train_dataset.train_data = train_dataset.train_data[:2]"
   ]
  },
  {
   "cell_type": "code",
   "execution_count": 5,
   "metadata": {},
   "outputs": [
    {
     "data": {
      "text/plain": [
       "torch.FloatTensor"
      ]
     },
     "execution_count": 5,
     "metadata": {},
     "output_type": "execute_result"
    }
   ],
   "source": [
    "type(train_dataset.train_data[0])"
   ]
  },
  {
   "cell_type": "code",
   "execution_count": 6,
   "metadata": {},
   "outputs": [
    {
     "data": {
      "text/plain": [
       "torch.Size([2, 28, 28])"
      ]
     },
     "execution_count": 6,
     "metadata": {},
     "output_type": "execute_result"
    }
   ],
   "source": [
    "train_dataset.train_data[0:2].shape"
   ]
  },
  {
   "cell_type": "code",
   "execution_count": 7,
   "metadata": {},
   "outputs": [
    {
     "name": "stdout",
     "output_type": "stream",
     "text": [
      "torch.Size([1, 1, 28, 28])\n",
      "torch.Size([1])\n",
      "torch.Size([1, 1, 28, 28])\n",
      "torch.Size([1])\n"
     ]
    }
   ],
   "source": [
    "for (inp, lab) in train_loader:\n",
    "    print(inp.shape)\n",
    "    print(lab.shape)"
   ]
  },
  {
   "cell_type": "code",
   "execution_count": 60,
   "metadata": {
    "collapsed": true
   },
   "outputs": [],
   "source": [
    "class WeightNorm(nn.Module):\n",
    "    def __init__(self, in_features, out_features, alpha):\n",
    "        super(WeightNorm, self).__init__()\n",
    "        self.in_features = in_features\n",
    "        self.out_features = out_features\n",
    "        self.alpha = alpha\n",
    "        \n",
    "        self.internal_weight = nn.Parameter(\n",
    "            torch.FloatTensor(in_features, out_features).cuda(), requires_grad=True)\n",
    "        self.internal_weight.data.normal_(0, 0.01)\n",
    "        self.magnitude = nn.Parameter(\n",
    "            torch.FloatTensor(out_features).cuda(), requires_grad=True)\n",
    "        self.magnitude.data.fill_(1)\n",
    "        self.bias = nn.Parameter(\n",
    "            torch.FloatTensor(out_features).cuda(), requires_grad=True)\n",
    "        self.bias.data.fill_(0)\n",
    "        self.sampled = Variable(torch.FloatTensor(self.internal_weight.data.shape).cuda(), requires_grad=False)\n",
    "        self.sampled.data.fill_(0)\n",
    "\n",
    "        self.parameters = [self.internal_weight, self.magnitude, self.bias]\n",
    "\n",
    "    def forward(self, input, deterministic=False, tangent=False):\n",
    "        W_norm = self.internal_weight / self.internal_weight.norm(dim=0)\n",
    "        if not deterministic:\n",
    "            self.sampled.data.normal_(0, np.sqrt(self.alpha))\n",
    "        else:\n",
    "            self.sampled.data.fill_(0)\n",
    "        if tangent:\n",
    "            coef = W_norm.mul(self.sampled).sum(dim=1)\n",
    "            projected = self.sampled - W_norm * coef.view(-1, 1)\n",
    "        else:\n",
    "            projected = self.sampled\n",
    "        W_noisy = W_norm + projected\n",
    "        W_noisy_normed = W_noisy / W_noisy.norm(dim=0)\n",
    "        self.weight = (self.magnitude * W_noisy_normed)\n",
    "        result = input.mm(self.weight)\n",
    "        return result.add(self.bias)\n",
    "    \n",
    "    def __repr__(self):\n",
    "        params = ''\n",
    "        if self._parameters:\n",
    "            params = ', '.join(list(self._parameters.keys()))\n",
    "            params = '\\t' + params\n",
    "        return self.__class__.__name__ + ' (' \\\n",
    "            + str(self.in_features) + ' -> ' + str(self.out_features) + ')' + params\n",
    "\n",
    "class Linear(nn.Linear):\n",
    "    def __repr__(self):\n",
    "        params = ''\n",
    "        if self._parameters:\n",
    "            params = ', '.join(list(self._parameters.keys()))\n",
    "            params = '\\t' + params\n",
    "        return self.__class__.__name__ + ' (' \\\n",
    "            + str(self.in_features) + ' -> ' + str(self.out_features) + ')' + params\n",
    "        \n",
    "\n",
    "class FC_Net(nn.Module):\n",
    "    def __init__(self, input_size, num_classes, nonlinearity=nn.ReLU()):\n",
    "        super(FC_Net, self).__init__()\n",
    "        self.nonlinearity = nonlinearity\n",
    "\n",
    "        self.fc1 = Linear(input_size, 1024)\n",
    "        self.fc1.weight.data.normal_(mean=0, std=0.01)\n",
    "        \n",
    "        self.fc2 = Linear(1024, 1024)\n",
    "        self.fc2.weight.data.normal_(mean=0, std=0.01)\n",
    "        \n",
    "        self.fc3 = Linear(1024, 2048)\n",
    "        self.fc3.weight.data.normal_(mean=0, std=0.01)\n",
    "        \n",
    "        self.fc4 = Linear(2048, num_classes) \n",
    "        self.fc4.weight.data.normal_(mean=0, std=0.01)\n",
    "    \n",
    "    def forward(self, x):\n",
    "        out = x.view(x.size(0), np.prod(x.size()[1:]))\n",
    "        out = self.fc1(x)\n",
    "        out = self.nonlinearity(out)\n",
    "        out = self.fc2(x)\n",
    "        out = self.nonlinearity(out)\n",
    "        out = self.fc3(x)\n",
    "        out = self.nonlinearity(out)\n",
    "        out = self.fc4(x)\n",
    "        return out\n",
    "\n",
    "\n",
    "class WN_Net(nn.Module):\n",
    "    def __init__(self, input_size, num_classes, nonlinearity=nn.ReLU(), alpha=0.01):\n",
    "        super(WN_Net, self).__init__()\n",
    "        self.nonlinearity = nonlinearity\n",
    "        self.fc1 = WeightNorm(input_size, 1024, alpha)\n",
    "        self.fc2 = WeightNorm(1024, 1024, alpha)\n",
    "        self.fc3 = WeightNorm(1024, 2048, alpha)\n",
    "        self.fc4 = WeightNorm(2048, num_classes, alpha)\n",
    "\n",
    "    def forward(self, x, deterministic=False):\n",
    "        hid1 = self.fc1.forward(x, deterministic=deterministic)\n",
    "        out1 = self.nonlinearity(hid1)\n",
    "        hid2 = self.fc2.forward(out1, deterministic=deterministic)\n",
    "        out2 = self.nonlinearity(hid2)\n",
    "        hid3 = self.fc3.forward(out2, deterministic=deterministic)\n",
    "        out3 = self.nonlinearity(hid3)\n",
    "        hid4 = self.fc4.forward(out3, deterministic=deterministic)\n",
    "        return hid4"
   ]
  },
  {
   "cell_type": "code",
   "execution_count": 58,
   "metadata": {
    "scrolled": false
   },
   "outputs": [
    {
     "name": "stdout",
     "output_type": "stream",
     "text": [
      "<class 'torch.nn.parameter.Parameter'>\n",
      "<class 'torch.nn.parameter.Parameter'>\n",
      "<class 'torch.nn.parameter.Parameter'>\n",
      "<class 'torch.nn.parameter.Parameter'>\n",
      "<class 'torch.nn.parameter.Parameter'>\n",
      "<class 'torch.nn.parameter.Parameter'>\n",
      "<class 'torch.nn.parameter.Parameter'>\n",
      "<class 'torch.nn.parameter.Parameter'>\n",
      "<class 'torch.nn.parameter.Parameter'>\n",
      "<class 'torch.nn.parameter.Parameter'>\n",
      "<class 'torch.nn.parameter.Parameter'>\n",
      "<class 'torch.nn.parameter.Parameter'>\n"
     ]
    }
   ],
   "source": [
    "a = WN_Net(28*28, 10)\n",
    "for p in a.parameters():\n",
    "    print(type(p))"
   ]
  },
  {
   "cell_type": "code",
   "execution_count": 61,
   "metadata": {},
   "outputs": [
    {
     "name": "stdout",
     "output_type": "stream",
     "text": [
      "<class 'torch.nn.parameter.Parameter'>\n",
      "<class 'torch.nn.parameter.Parameter'>\n",
      "<class 'torch.nn.parameter.Parameter'>\n",
      "<class 'torch.nn.parameter.Parameter'>\n",
      "<class 'torch.nn.parameter.Parameter'>\n",
      "<class 'torch.nn.parameter.Parameter'>\n",
      "<class 'torch.nn.parameter.Parameter'>\n",
      "<class 'torch.nn.parameter.Parameter'>\n"
     ]
    }
   ],
   "source": [
    "a = FC_Net(28*28, 10)\n",
    "for p in a.parameters():\n",
    "    print(type(p))"
   ]
  },
  {
   "cell_type": "code",
   "execution_count": null,
   "metadata": {
    "collapsed": true
   },
   "outputs": [],
   "source": []
  }
 ],
 "metadata": {
  "kernelspec": {
   "display_name": "Python 3",
   "language": "python",
   "name": "python3"
  },
  "language_info": {
   "codemirror_mode": {
    "name": "ipython",
    "version": 3
   },
   "file_extension": ".py",
   "mimetype": "text/x-python",
   "name": "python",
   "nbconvert_exporter": "python",
   "pygments_lexer": "ipython3",
   "version": "3.6.3"
  }
 },
 "nbformat": 4,
 "nbformat_minor": 2
}
